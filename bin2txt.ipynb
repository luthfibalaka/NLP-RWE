{
 "cells": [
  {
   "cell_type": "code",
   "execution_count": null,
   "metadata": {},
   "outputs": [],
   "source": [
    "import fasttext\n",
    "import re\n",
    "\n",
    "from tqdm import tqdm"
   ]
  },
  {
   "cell_type": "code",
   "execution_count": null,
   "metadata": {},
   "outputs": [],
   "source": [
    "model = fasttext.load_model(\"../cc.en.300.bin\")"
   ]
  },
  {
   "cell_type": "code",
   "execution_count": null,
   "metadata": {},
   "outputs": [],
   "source": [
    "# def is_english_only(s):\n",
    "#     return re.match(r'^[A-Za-z\\s]+$', s) is not None"
   ]
  },
  {
   "cell_type": "code",
   "execution_count": null,
   "metadata": {},
   "outputs": [],
   "source": [
    "vocab = set()\n",
    "with open(\"../relative_init_vectors.txt\") as file:\n",
    "    lines = file.readlines()\n",
    "    for line in tqdm(lines[1:]):\n",
    "        splits = line.split(\" \")\n",
    "        word1, word2 = splits[0].split(\"__\")\n",
    "        word1 = word1.strip()\n",
    "        word2 = word2.strip()\n",
    "\n",
    "        if len(word1) > 0:\n",
    "            # if is_english_only(word1):\n",
    "                vocab.add(word1)\n",
    "        if len(word2) > 0:\n",
    "            # if is_english_only(word2):\n",
    "                vocab.add(word2)\n",
    "vocab = sorted(vocab)"
   ]
  },
  {
   "cell_type": "code",
   "execution_count": null,
   "metadata": {},
   "outputs": [],
   "source": [
    "with open(\"ft_word_embeddings.txt\", \"w\", encoding=\"utf-8\") as file:\n",
    "    file.write(f\"{len(vocab)} 300\\n\")\n",
    "    for word in tqdm(vocab):\n",
    "        file.write(f\"{word} {\" \".join(model.get_word_vector(word).astype(str).tolist())}\\n\")"
   ]
  }
 ],
 "metadata": {
  "kernelspec": {
   "display_name": "base",
   "language": "python",
   "name": "python3"
  },
  "language_info": {
   "codemirror_mode": {
    "name": "ipython",
    "version": 3
   },
   "file_extension": ".py",
   "mimetype": "text/x-python",
   "name": "python",
   "nbconvert_exporter": "python",
   "pygments_lexer": "ipython3",
   "version": "3.12.1"
  }
 },
 "nbformat": 4,
 "nbformat_minor": 2
}
