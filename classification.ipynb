{
 "cells": [
  {
   "cell_type": "code",
   "execution_count": null,
   "metadata": {},
   "outputs": [],
   "source": [
    "import io\n",
    "import os\n",
    "import fasttext\n",
    "import pandas as pd\n",
    "import numpy as np\n",
    "\n",
    "from transformers import set_seed\n",
    "from sklearn.neural_network import MLPClassifier\n",
    "from sentence_transformers.SentenceTransformer import SentenceTransformer"
   ]
  },
  {
   "cell_type": "code",
   "execution_count": 3,
   "metadata": {},
   "outputs": [],
   "source": [
    "os.environ[\"CUBLAS_WORKSPACE_CONFIG\"] = \":4096:8\"\n",
    "set_seed(42, deterministic=True)"
   ]
  },
  {
   "cell_type": "code",
   "execution_count": 4,
   "metadata": {},
   "outputs": [],
   "source": [
    "train = pd.read_csv(\"dataset/train.tsv\", sep=\"\\t\", header=None, names=[\"kata1\",\"kata2\",\"relasi\"]).dropna().reset_index(drop=True)\n",
    "test = pd.read_csv(\"dataset/test.tsv\", sep=\"\\t\", header=None, names=[\"kata1\",\"kata2\",\"relasi\"]).dropna().reset_index(drop=True)"
   ]
  },
  {
   "cell_type": "code",
   "execution_count": 5,
   "metadata": {},
   "outputs": [],
   "source": [
    "def load_learned_embeddings(name: str):\n",
    "    fin = io.open(name, 'r', encoding='utf-8', newline='\\n', errors='ignore')\n",
    "    data = {}\n",
    "    for line in fin:\n",
    "        tokens = line.rstrip().split(' ')\n",
    "        data[tokens[0]] = np.array(tokens[1:], dtype=float)\n",
    "    return data\n",
    "rwe = load_learned_embeddings('rwe_embeddings.txt')  # Self-trained\n",
    "# rwe = load_learned_embeddings('reference_rwe.txt')  # From original repo\n",
    "ft = fasttext.load_model('cc.en.300.bin')\n",
    "embedding_model = SentenceTransformer('bge-base', local_files_only=True)"
   ]
  },
  {
   "cell_type": "markdown",
   "metadata": {},
   "source": [
    "# Training"
   ]
  },
  {
   "cell_type": "code",
   "execution_count": 6,
   "metadata": {},
   "outputs": [],
   "source": [
    "def get_bge_train_data(add_rwe=False):\n",
    "    representations = []\n",
    "    word1s_embeddings = embedding_model.encode(\n",
    "        train[\"kata1\"].to_list(), batch_size=256, show_progress_bar=True\n",
    "    )\n",
    "    word2s_embeddings = embedding_model.encode(\n",
    "        train[\"kata2\"].to_list(), batch_size=256, show_progress_bar=True\n",
    "    )\n",
    "\n",
    "    for i in range(len(train)):\n",
    "        word1_embed = word1s_embeddings[i]\n",
    "        word2_embed = word2s_embeddings[i]\n",
    "\n",
    "        if add_rwe:\n",
    "            word1_rwe = rwe.get(train[\"kata1\"][i], np.zeros(300,))\n",
    "            word2_rwe = rwe.get(train[\"kata2\"][i], np.zeros(300,))\n",
    "            word1_embed = np.concatenate((word1_embed, word1_rwe))\n",
    "            word2_embed = np.concatenate((word2_embed, word2_rwe))\n",
    "\n",
    "        pair_difference = np.subtract(word1_embed, word2_embed)\n",
    "        representations.append(pair_difference)\n",
    "\n",
    "    train[\"representation\"] = representations\n",
    "    X_train = np.vstack(train[\"representation\"])\n",
    "    y_train = train[\"relasi\"]\n",
    "\n",
    "    return X_train, y_train"
   ]
  },
  {
   "cell_type": "code",
   "execution_count": 7,
   "metadata": {},
   "outputs": [],
   "source": [
    "def get_fasttext_train_data(add_rwe=False):\n",
    "    representations = []\n",
    "    for i in range(len(train)):\n",
    "        word1_embed = ft.get_word_vector(train[\"kata1\"][i])\n",
    "        word2_embed = ft.get_word_vector(train[\"kata2\"][i])\n",
    "\n",
    "        if add_rwe:\n",
    "            word1_rwe = rwe.get(train[\"kata1\"][i], np.zeros(300,))\n",
    "            word2_rwe = rwe.get(train[\"kata2\"][i], np.zeros(300,))\n",
    "            word1_embed = np.concatenate((word1_embed, word1_rwe))\n",
    "            word2_embed = np.concatenate((word2_embed, word2_rwe))\n",
    "        \n",
    "        pair_difference = np.subtract(word1_embed, word2_embed)\n",
    "        representations.append(pair_difference)\n",
    "\n",
    "    train['representation'] = representations\n",
    "    X_train = np.vstack(train['representation'])\n",
    "    y_train = train['relasi']\n",
    "\n",
    "    return X_train, y_train"
   ]
  },
  {
   "cell_type": "code",
   "execution_count": null,
   "metadata": {},
   "outputs": [],
   "source": [
    "X_train_bge, y_train_bge = get_bge_train_data()\n",
    "X_train_bge_rwe, y_train_bge_rwe = get_bge_train_data(True)\n",
    "X_train_ft, y_train_ft = get_fasttext_train_data()\n",
    "X_train_ft_rwe, y_train_ft_rwe = get_fasttext_train_data(True)"
   ]
  },
  {
   "cell_type": "code",
   "execution_count": null,
   "metadata": {},
   "outputs": [],
   "source": [
    "model_bge = MLPClassifier(random_state=42, max_iter=300)\n",
    "model_bge_rwe = MLPClassifier(random_state=42, max_iter=300)\n",
    "model_ft = MLPClassifier(random_state=42, max_iter=300)\n",
    "model_ft_rwe = MLPClassifier(random_state=42, max_iter=300)\n",
    "\n",
    "model_bge.fit(X_train_bge, y_train_bge)\n",
    "model_bge_rwe.fit(X_train_bge_rwe, y_train_bge_rwe)\n",
    "model_ft.fit(X_train_ft, y_train_ft)\n",
    "model_ft_rwe.fit(X_train_ft_rwe, y_train_ft_rwe)"
   ]
  },
  {
   "cell_type": "markdown",
   "metadata": {},
   "source": [
    "# Testing"
   ]
  },
  {
   "cell_type": "code",
   "execution_count": 10,
   "metadata": {},
   "outputs": [],
   "source": [
    "def get_bge_test_data(add_rwe=False):\n",
    "    representations = []\n",
    "    word1s_embeddings = embedding_model.encode(\n",
    "        test[\"kata1\"].to_list(), batch_size=256, show_progress_bar=True\n",
    "    )\n",
    "    word2s_embeddings = embedding_model.encode(\n",
    "        test[\"kata2\"].to_list(), batch_size=256, show_progress_bar=True\n",
    "    )\n",
    "\n",
    "    for i in range(len(test)):\n",
    "        word1_embed = word1s_embeddings[i]\n",
    "        word2_embed = word2s_embeddings[i]\n",
    "\n",
    "        if add_rwe:\n",
    "            word1_rwe = rwe.get(test[\"kata1\"][i], np.zeros(300,))\n",
    "            word2_rwe = rwe.get(test[\"kata2\"][i], np.zeros(300,))\n",
    "            word1_embed = np.concatenate((word1_embed, word1_rwe))\n",
    "            word2_embed = np.concatenate((word2_embed, word2_rwe))\n",
    "\n",
    "        pair_difference = np.subtract(word1_embed, word2_embed)\n",
    "        representations.append(pair_difference)\n",
    "\n",
    "    test[\"representation\"] = representations\n",
    "    X_test = np.vstack(test[\"representation\"])\n",
    "    y_test = test[\"relasi\"]\n",
    "\n",
    "    return X_test, y_test"
   ]
  },
  {
   "cell_type": "code",
   "execution_count": 11,
   "metadata": {},
   "outputs": [],
   "source": [
    "def get_fasttext_test_data(add_rwe=False):\n",
    "    representations = []\n",
    "    for i in range(len(test)):\n",
    "        word1_embed = ft.get_word_vector(test[\"kata1\"][i])\n",
    "        word2_embed = ft.get_word_vector(test[\"kata2\"][i])\n",
    "\n",
    "        if add_rwe:\n",
    "            word1_rwe = rwe.get(test[\"kata1\"][i], np.zeros(300,))\n",
    "            word2_rwe = rwe.get(test[\"kata2\"][i], np.zeros(300,))\n",
    "            word1_embed = np.concatenate((word1_embed, word1_rwe))\n",
    "            word2_embed = np.concatenate((word2_embed, word2_rwe))\n",
    "        \n",
    "        pair_difference = np.subtract(word1_embed, word2_embed)\n",
    "        representations.append(pair_difference)\n",
    "\n",
    "    test['representation'] = representations\n",
    "    X_test = np.vstack(test['representation'])\n",
    "    y_test = test['relasi']\n",
    "\n",
    "    return X_test, y_test"
   ]
  },
  {
   "cell_type": "code",
   "execution_count": 12,
   "metadata": {},
   "outputs": [],
   "source": [
    "def get_accuracy(pred, actual):\n",
    "    sum = 0\n",
    "    for i in range(len(pred)):\n",
    "        if pred[i] == actual[i]:\n",
    "            sum += 1\n",
    "    print(f\"Accuracy: {sum/len(pred)}\")"
   ]
  },
  {
   "cell_type": "code",
   "execution_count": null,
   "metadata": {},
   "outputs": [],
   "source": [
    "X_test_bge, y_test_bge = get_bge_test_data()\n",
    "X_test_bge_rwe, y_test_bge_rwe = get_bge_test_data(True)\n",
    "X_test_ft, y_test_ft = get_fasttext_test_data()\n",
    "X_test_ft_rwe, y_test_ft_rwe = get_fasttext_test_data(True)"
   ]
  },
  {
   "cell_type": "code",
   "execution_count": 14,
   "metadata": {},
   "outputs": [],
   "source": [
    "prediction_bge = model_bge.predict(X_test_bge)\n",
    "prediction_bge_rwe = model_bge_rwe.predict(X_test_bge_rwe)\n",
    "prediction_ft = model_ft.predict(X_test_ft)\n",
    "prediction_ft_rwe = model_ft_rwe.predict(X_test_ft_rwe)"
   ]
  },
  {
   "cell_type": "code",
   "execution_count": null,
   "metadata": {},
   "outputs": [],
   "source": [
    "get_accuracy(prediction_bge, y_test_bge)\n",
    "get_accuracy(prediction_bge_rwe, y_test_bge_rwe)\n",
    "get_accuracy(prediction_ft, y_test_ft)\n",
    "get_accuracy(prediction_ft_rwe, y_test_ft_rwe)"
   ]
  }
 ],
 "metadata": {
  "kernelspec": {
   "display_name": "base",
   "language": "python",
   "name": "python3"
  },
  "language_info": {
   "codemirror_mode": {
    "name": "ipython",
    "version": 3
   },
   "file_extension": ".py",
   "mimetype": "text/x-python",
   "name": "python",
   "nbconvert_exporter": "python",
   "pygments_lexer": "ipython3",
   "version": "3.12.2"
  }
 },
 "nbformat": 4,
 "nbformat_minor": 2
}
