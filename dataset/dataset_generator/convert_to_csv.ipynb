{
 "cells": [
  {
   "cell_type": "code",
   "execution_count": null,
   "metadata": {},
   "outputs": [],
   "source": [
    "import json\n",
    "import random\n",
    "import pandas as pd\n",
    "\n",
    "from tqdm import tqdm\n",
    "\n",
    "with open('antonims.json', 'r') as f:\n",
    "    antonims = json.load(f)\n",
    "\n",
    "with open('sinonims.json', 'r') as f:\n",
    "    sinonims = json.load(f)\n",
    "\n",
    "    random.seed(42)\n",
    "    sinonims = random.sample(sinonims, len(antonims))"
   ]
  },
  {
   "cell_type": "code",
   "execution_count": null,
   "metadata": {},
   "outputs": [],
   "source": [
    "dataset = pd.DataFrame(columns=[\"kata1\", \"kata2\", \"relasi\"])"
   ]
  },
  {
   "cell_type": "code",
   "execution_count": null,
   "metadata": {},
   "outputs": [],
   "source": [
    "for sinonim in tqdm(sinonims):\n",
    "    new_row = pd.DataFrame({\n",
    "        \"kata1\": [sinonim[0]],\n",
    "        \"kata2\": [sinonim[1]],\n",
    "        \"relasi\": [\"sinonim\"]\n",
    "    })\n",
    "    dataset = pd.concat([dataset, new_row], ignore_index=True)\n",
    "\n",
    "for antonim in tqdm(antonims):\n",
    "    new_row = pd.DataFrame({\n",
    "        \"kata1\": [antonim[0]],\n",
    "        \"kata2\": [antonim[1]],\n",
    "        \"relasi\":[\"antonim\"]\n",
    "    })\n",
    "    dataset = pd.concat([dataset, new_row], ignore_index=True)"
   ]
  },
  {
   "cell_type": "code",
   "execution_count": null,
   "metadata": {},
   "outputs": [],
   "source": [
    "dataset.to_csv(\"klasifikasi.csv\", index=False)"
   ]
  },
  {
   "cell_type": "code",
   "execution_count": null,
   "metadata": {},
   "outputs": [],
   "source": [
    "from sklearn.model_selection import train_test_split\n",
    "dataset = pd.read_csv(\"klasifikasi.csv\")\n",
    "train, test = train_test_split(dataset, test_size=0.2, random_state=42, stratify=dataset[\"relasi\"])"
   ]
  },
  {
   "cell_type": "code",
   "execution_count": null,
   "metadata": {},
   "outputs": [],
   "source": [
    "train.to_csv(\"train.csv\", index=False)\n",
    "test.to_csv(\"test.csv\", index=False)"
   ]
  }
 ],
 "metadata": {
  "kernelspec": {
   "display_name": "base",
   "language": "python",
   "name": "python3"
  },
  "language_info": {
   "codemirror_mode": {
    "name": "ipython",
    "version": 3
   },
   "file_extension": ".py",
   "mimetype": "text/x-python",
   "name": "python",
   "nbconvert_exporter": "python",
   "pygments_lexer": "ipython3",
   "version": "3.12.1"
  }
 },
 "nbformat": 4,
 "nbformat_minor": 2
}
