{
 "cells": [
  {
   "cell_type": "code",
   "execution_count": null,
   "metadata": {},
   "outputs": [],
   "source": [
    "!gdown '1DUxOSd4IJLdzBgS8vJSl1pPg0coGzCMh'\n",
    "!gdown '1F-6ckvKpYwUlqE5W-Ibdd3FmzOcnmN7d'\n",
    "!gdown \"1Nt3UQs3Y6Ip39irOl-d9MK2-h7K4L7AY\"\n",
    "!tar -xvf relative_init_vectors.tar.gz\n",
    "!tar -xvf ft_word_embedding.tar.gz"
   ]
  },
  {
   "cell_type": "code",
   "execution_count": 2,
   "metadata": {},
   "outputs": [],
   "source": [
    "from huggingface_hub import hf_hub_download\n",
    "files = [\n",
    "    \"1_Pooling/config.json\",\n",
    "    \"config_sentence_transformers.json\",\n",
    "    \"config.json\",\n",
    "    \"model.safetensors\",\n",
    "    \"modules.json\",\n",
    "    \"README.md\",\n",
    "    \"sentence_bert_config.json\",\n",
    "    \"special_tokens_map.json\",\n",
    "    \"tokenizer_config.json\",\n",
    "    \"tokenizer.json\",\n",
    "    \"vocab.txt\",\n",
    "]\n",
    "repo_id = \"BAAI/bge-base-en-v1.5\"\n",
    "for file in files:\n",
    "    hf_hub_download(repo_id=repo_id, filename=file, local_dir=\"./bge-base\")"
   ]
  },
  {
   "cell_type": "code",
   "execution_count": null,
   "metadata": {},
   "outputs": [],
   "source": [
    "import fasttext.util\n",
    "fasttext.util.download_model('en', if_exists='ignore')"
   ]
  }
 ],
 "metadata": {
  "kernelspec": {
   "display_name": "base",
   "language": "python",
   "name": "python3"
  },
  "language_info": {
   "codemirror_mode": {
    "name": "ipython",
    "version": 3
   },
   "file_extension": ".py",
   "mimetype": "text/x-python",
   "name": "python",
   "nbconvert_exporter": "python",
   "pygments_lexer": "ipython3",
   "version": "3.12.2"
  }
 },
 "nbformat": 4,
 "nbformat_minor": 2
}
