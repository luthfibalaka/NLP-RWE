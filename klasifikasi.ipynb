{
 "cells": [
  {
   "cell_type": "code",
   "execution_count": null,
   "metadata": {},
   "outputs": [],
   "source": [
    "# Download fasttext embedding (for first time)\n",
    "# import fasttext.util\n",
    "# fasttext.util.download_model('id', if_exists='ignore')"
   ]
  },
  {
   "cell_type": "code",
   "execution_count": null,
   "metadata": {},
   "outputs": [],
   "source": [
    "import fasttext\n",
    "import pandas as pd\n",
    "\n",
    "from sklearn.linear_model import LogisticRegression"
   ]
  },
  {
   "cell_type": "markdown",
   "metadata": {},
   "source": [
    "# Training"
   ]
  },
  {
   "cell_type": "code",
   "execution_count": null,
   "metadata": {},
   "outputs": [],
   "source": [
    "ft = fasttext.load_model('models/cc.id.300.bin')"
   ]
  },
  {
   "cell_type": "code",
   "execution_count": null,
   "metadata": {},
   "outputs": [],
   "source": [
    "train = pd.read_csv(\"train.csv\").dropna().reset_index(drop=True)\n",
    "test = pd.read_csv(\"test.csv\").dropna().reset_index(drop=True)"
   ]
  },
  {
   "cell_type": "code",
   "execution_count": null,
   "metadata": {},
   "outputs": [],
   "source": [
    "# Get embeddings of each word pair (default to 0s for unknown word)\n",
    "import numpy as np\n",
    "representations = []\n",
    "for i in range(len(train)):\n",
    "    word1_embedding = ft.get_word_vector(train[\"kata1\"][i])\n",
    "    word2_embedding = ft.get_word_vector(train[\"kata2\"][i])\n",
    "    pair_representation = np.subtract(word1_embedding, word2_embedding)\n",
    "    representations.append(pair_representation)\n",
    "\n",
    "# Append representation to df\n",
    "train['representation'] = representations"
   ]
  },
  {
   "cell_type": "code",
   "execution_count": null,
   "metadata": {},
   "outputs": [],
   "source": [
    "X_train = np.vstack(train['representation'])\n",
    "y_train = train['relasi']"
   ]
  },
  {
   "cell_type": "code",
   "execution_count": null,
   "metadata": {},
   "outputs": [],
   "source": [
    "model = LogisticRegression()\n",
    "model.fit(X_train, y_train)"
   ]
  },
  {
   "cell_type": "markdown",
   "metadata": {},
   "source": [
    "# Testing"
   ]
  },
  {
   "cell_type": "code",
   "execution_count": null,
   "metadata": {},
   "outputs": [],
   "source": [
    "# Get embeddings of each word pair (default to 0s for unknown word)\n",
    "import numpy as np\n",
    "representations = []\n",
    "for i in range(len(test)):\n",
    "    word1_embedding = ft.get_word_vector(test[\"kata1\"][i])\n",
    "    word2_embedding = ft.get_word_vector(test[\"kata2\"][i])\n",
    "    pair_representation = np.subtract(word1_embedding, word2_embedding)\n",
    "    representations.append(pair_representation)\n",
    "\n",
    "# Append representation to df\n",
    "test['representation'] = representations"
   ]
  },
  {
   "cell_type": "code",
   "execution_count": null,
   "metadata": {},
   "outputs": [],
   "source": [
    "X_test = np.vstack(test['representation'])\n",
    "y_test = test['relasi']"
   ]
  },
  {
   "cell_type": "code",
   "execution_count": null,
   "metadata": {},
   "outputs": [],
   "source": [
    "prediction = model.predict(X_test)"
   ]
  },
  {
   "cell_type": "code",
   "execution_count": null,
   "metadata": {},
   "outputs": [],
   "source": [
    "sum = 0\n",
    "for i in range(len(prediction)):\n",
    "    if prediction[i] == y_test[i]:\n",
    "        sum += 1"
   ]
  },
  {
   "cell_type": "code",
   "execution_count": null,
   "metadata": {},
   "outputs": [],
   "source": [
    "print(sum/len(prediction))"
   ]
  }
 ],
 "metadata": {
  "kernelspec": {
   "display_name": "base",
   "language": "python",
   "name": "python3"
  },
  "language_info": {
   "codemirror_mode": {
    "name": "ipython",
    "version": 3
   },
   "file_extension": ".py",
   "mimetype": "text/x-python",
   "name": "python",
   "nbconvert_exporter": "python",
   "pygments_lexer": "ipython3",
   "version": "3.12.1"
  }
 },
 "nbformat": 4,
 "nbformat_minor": 2
}
